{
 "metadata": {
  "language_info": {
   "codemirror_mode": {
    "name": "ipython",
    "version": 3
   },
   "file_extension": ".py",
   "mimetype": "text/x-python",
   "name": "python",
   "nbconvert_exporter": "python",
   "pygments_lexer": "ipython3",
   "version": "3.8.3-final"
  },
  "orig_nbformat": 2,
  "kernelspec": {
   "name": "python3",
   "display_name": "Python 3",
   "language": "python"
  }
 },
 "nbformat": 4,
 "nbformat_minor": 2,
 "cells": [
  {
   "cell_type": "code",
   "execution_count": null,
   "metadata": {},
   "outputs": [],
   "source": [
    "// Copyright Amazon.com, Inc. or its affiliates. All Rights Reserved.\n",
    "// SPDX-License-Identifier: MIT-0"
   ]
  },
  {
   "source": [
    "This notebook contains Athena queries that  create joint tables  that will be used to create the dashboard. The fist query joins the Condition, Patient and Encounter table"
   ],
   "cell_type": "markdown",
   "metadata": {}
  },
  {
   "cell_type": "code",
   "execution_count": null,
   "metadata": {},
   "outputs": [],
   "source": [
    "S3_BUCKET=\"s3://[BUCKET_NAME]/athena\"\n",
    "%set_env AWS_PROFILE=profile health_ai"
   ]
  },
  {
   "cell_type": "code",
   "execution_count": null,
   "metadata": {},
   "outputs": [],
   "source": [
    "import sys\n",
    "!{sys.executable} -m pip install PyAthena"
   ]
  },
  {
   "cell_type": "code",
   "execution_count": null,
   "metadata": {},
   "outputs": [],
   "source": [
    "from pyathena import connect\n",
    "import pandas as pd\n",
    "conn = connect(s3_staging_dir=S3_BUCKET,\n",
    "               region_name='us-east-1').cursor()\n",
    "\n",
    "conn.execute(\"drop table if exists healthlakedb.condition_patient_encounter\")\n",
    "conn.execute(\"\"\"\n",
    "create table healthlakedb.condition_patient_encounter as\n",
    "SELECT DISTINCT p.name[1].family AS patient_name,\n",
    "         p.id as patient_id,\n",
    "         p.gender,\n",
    "         cast (p.birthdate AS date) AS birthdate,\n",
    "         p.maritalstatus.text as maritalstatus,\n",
    "         p.deceaseddatetime as deceaseddatetime,\n",
    "         enc.id as encounter_id,\n",
    "         enc.period.start  AS start_enc,\n",
    "         enc.period.\"end\" AS \"end_enc\",\n",
    "         enc.type[1].coding[1].display as encounter_type,\n",
    "         cond.clinicalstatus.coding[1].code as clinicalstatus,\n",
    "         cond.category[1].coding[1].display as category,\n",
    "         cond.code.coding[1].display as condition\n",
    "FROM healthlakedb.patient p \n",
    "FULL OUTER JOIN healthlakedb.encounter enc\n",
    "    ON (\"split\"(\"enc\".\"subject\".\"reference\", '/')[2] = \"p\".\"id\")\n",
    "FULL OUTER JOIN healthlakedb.condition cond\n",
    "    ON (\"split\"(\"cond\".\"encounter\".\"reference\", '/')[2] = \"enc\".\"id\")\n",
    "    \"\"\")"
   ]
  },
  {
   "cell_type": "code",
   "execution_count": null,
   "metadata": {},
   "outputs": [],
   "source": [
    "conn.execute(\"drop table if exists healthlakedb.parseddocref_patient_encounter\")\n",
    "conn.execute(\"\"\"\n",
    "SELECT distinct p.name[1].family as patient_name, p.id as patient_id,\n",
    "      enc.period.start as start_enc, enc.period.start as end_enc,\n",
    "      enc.type[1].text as encounter_type, pdr.code_description as parsed_condition,\n",
    "      pdr.code_score, pdr.entity_score\n",
    "FROM  healthlakedb.patient p \n",
    "FULL OUTER JOIN healthlakedb.encounter enc   \n",
    "ON (\"split\"(\"enc\".\"subject\".\"reference\", '/')[2] = \"p\".\"id\")\n",
    "FULL OUTER JOIN healthlakedb.parseddocref pdr\n",
    "ON (\"split\"(\"pdr\".\"encounter_id\", '/')[2] = \"enc\".\"id\")\n",
    "\"\"\")\n"
   ]
  }
 ]
}